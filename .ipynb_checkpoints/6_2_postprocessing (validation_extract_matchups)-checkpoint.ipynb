{
 "cells": [
  {
   "cell_type": "markdown",
   "id": "ca507dc5-5f9e-455e-b6a3-ce8e34492819",
   "metadata": {
    "tags": []
   },
   "source": [
    "# Info"
   ]
  },
  {
   "cell_type": "markdown",
   "id": "f75cdff7-1286-4675-b961-96ac5ef78950",
   "metadata": {
    "jp-MarkdownHeadingCollapsed": true,
    "tags": []
   },
   "source": [
    "**Project**\n",
    "\n",
    "Assessment of gap-filling techniques applied to satellite phytoplankton composition products for the Atlantic Ocean\n",
    "\n",
    "**Credit**\n",
    "\n",
    "**© Ehsan Mehdipour**, 2025. (ehsan.mehdipour@awi.de)\n",
    "\n",
    "Alfred Wegener Insitute for Polar and Marine Research, Bremerhaven, Germany\n",
    "\n",
    "This work is licensed under the **GNU General Public License v3.0 (GPL-3.0)**. \n",
    "\n",
    "**Objective**\n",
    "\n",
    "This code read the satellite products and in-situ measurement and extract the matchup between the two dataset using the criteria suggested by Bailey and Werdell (2006) and EUMETSAT (2022).\n",
    "\n",
    "**Dataset**\n",
    "\n",
    "The dataset is accessable through Copernicus Marine Service with the following DOI:\n",
    "https://doi.org/10.48670/moi-00280 and Dataset ID: cmems_obs-oc_glo_bgc-plankton_my_l3-multi-4km_P1D"
   ]
  },
  {
   "cell_type": "markdown",
   "id": "dd78c78a-f3f2-48cb-bc6b-ae733d74f1bc",
   "metadata": {},
   "source": [
    "# Setup and configuration"
   ]
  },
  {
   "cell_type": "markdown",
   "id": "1e5c39b2-8217-4f04-8341-c82df8d2390e",
   "metadata": {},
   "source": [
    "## Import modules"
   ]
  },
  {
   "cell_type": "code",
   "execution_count": 1,
   "id": "b6c6a0e7-284a-427e-a294-4b2fb0fd6941",
   "metadata": {},
   "outputs": [],
   "source": [
    "# Modules for data analysis\n",
    "import os\n",
    "os.environ[\"OMP_NUM_THREADS\"] = \"1\"\n",
    "import xarray as xr\n",
    "import numpy as np\n",
    "import pandas as pd\n",
    "import dask\n",
    "\n",
    "# Modules for data visualisation \n",
    "import matplotlib.pyplot as plt\n",
    "from matplotlib.colors import LogNorm, LinearSegmentedColormap\n",
    "import matplotlib.dates as mdates\n",
    "from matplotlib import gridspec\n",
    "import cartopy.crs as ccrs\n",
    "\n",
    "# Miscellaneous modules\n",
    "from tqdm import tqdm\n",
    "import warnings\n",
    "warnings.filterwarnings(\"ignore\", category=RuntimeWarning) \n",
    "warnings.simplefilter(\"ignore\", UserWarning)\n",
    "\n",
    "# Manual modules or parameters\n",
    "from function import *\n",
    "from params import *"
   ]
  },
  {
   "cell_type": "markdown",
   "id": "326f0c46-364f-4dc4-bc8f-0781ca605afe",
   "metadata": {},
   "source": [
    "# Functions"
   ]
  },
  {
   "cell_type": "code",
   "execution_count": null,
   "id": "3d1a390c-285d-40d3-a407-cd41284ac6cd",
   "metadata": {},
   "outputs": [],
   "source": [
    "## Loading HPLC dataset\n",
    "\n",
    "def load_HPLC(fname, params):\n",
    "    ''' \n",
    "    This function loads the High-performance liquid chromatography (HPLC) data from a csv file.\n",
    "    \n",
    "    Parameters:\n",
    "    fname (int): file name and directory of the HPLC csv file\n",
    "    params (dict): Dictionary of parameters\n",
    "    \n",
    "    Returns:\n",
    "    HPLC (xr.Dataset): HPLC dataset containing the Chla concentrations of \n",
    "        PFTs and TChla for specific (PS113) expedition\n",
    "    '''\n",
    "    \n",
    "    ## Read the csv file\n",
    "    HPLC_df = pd.read_csv(fname ,sep='\\t',parse_dates=[['Date','Time_UTC']],index_col=0)\n",
    "    ## Drop unnecessary columns\n",
    "    HPLC_df = HPLC_df.drop(columns=['Proben ID','Event_label','jultime','depth','Cryptophytes','Chrysophytes'])\n",
    "    ## Sort accordingly\n",
    "    HPLC_df = HPLC_df.rename_axis('time').sort_index()\n",
    "    ## rename the dimensions to make it similar with the other datasets\n",
    "    HPLC_df = HPLC_df.rename(columns={'Lat':'lat','Lon':'lon'})\n",
    "    ## rename the PFT name columns to the abbreviations\n",
    "    HPLC_df = HPLC_df.rename(columns=params['PFT_HPLC_dict'])\n",
    "    ## Compute the PROKAR with summation of cyano_noprochlo and prochlo\n",
    "    HPLC_df['PROKAR'] = HPLC_df['PROKAR'] + HPLC_df['PROCHLO']\n",
    "    ## drop the prochlo column\n",
    "    HPLC_df = HPLC_df.drop(columns=['PROCHLO'])\n",
    "    ## convert to xarray dataset\n",
    "    HPLC = HPLC_df.to_xarray().set_coords(['lat','lon'])\n",
    "    ## assign unit and longname for ploting\n",
    "    for var_name in HPLC.data_vars:\n",
    "        HPLC[var_name] = HPLC[var_name].assign_attrs(units=params['units'])\n",
    "        HPLC[var_name] = HPLC[var_name].assign_attrs(long_name=params['PFT_longname'][var_name])\n",
    "    ## convert the time to daily values for matchup process\n",
    "    HPLC['time'] = HPLC.time.astype('datetime64[D]')\n",
    "    ## limit the Chla concentrations to minimum of 0.005\n",
    "    HPLC = HPLC.where(HPLC >=0.005,0.005)\n",
    "    ## convert to logarithmic scale\n",
    "    HPLC = np.log10(HPLC)\n",
    "    ## remove the NaN data\n",
    "    HPLC = HPLC.where(np.isfinite(HPLC))\n",
    "    return HPLC"
   ]
  },
  {
   "cell_type": "code",
   "execution_count": null,
   "id": "9b5c91a1-f824-4fc9-8922-662d02b57237",
   "metadata": {},
   "outputs": [],
   "source": [
    "def matchup(sat, ins):\n",
    "    ''' \n",
    "    This function finds and extracts the satellite 3by3 matchups for each in-situ measurements \n",
    "    and perform the matchup extraction protocol. \n",
    "    Finally it will give the mean value as the final satellite matchup value.   \n",
    "    \n",
    "    Parameters:\n",
    "    sat (xr.Dataset): Dataset containing daily satellite dataset with \n",
    "        \"time, lat and lon\" dimensions\n",
    "    ins (xr.Dataset): Dataset cintaining in-situ measurements with \"time\" dimension and\n",
    "        \"lat and lon\" coordinates\n",
    "    \n",
    "    Returns:\n",
    "    sat_points (xr.Dataset): Dataset containing all the matchup values for satellite observations\n",
    "    ins_points (xr.Dataset): Dataset containing all the matchup values for in-situ measurements\n",
    "    '''\n",
    "    \n",
    "    ## Create the list for the matchups\n",
    "    sat_points_list = []\n",
    "    ins_points_list = []\n",
    "\n",
    "    ## Looping through the in-situ measurements\n",
    "    for i in tqdm(range(len(ins.time.values))):\n",
    "        \n",
    "        ## Extract the values from both instruments\n",
    "        ins_point = ins.isel(time=i,drop=False)\n",
    "        sat_point = sat.sel(time=ins_point.time.values)\n",
    "        if sat_point.time.values != ins_point.time.values:\n",
    "            continue\n",
    "        sat_point = sat_point.sel(lat=ins_point.lat.values,lon=ins_point.lon.values, method='nearest')\n",
    "        \n",
    "        ## Get the index of the middle pixel\n",
    "        lat_center = (sat.lat==sat_point.lat).argmax().values\n",
    "        lon_center = (sat.lon==sat_point.lon).argmax().values\n",
    "        \n",
    "        ## Pixels with deviations exceeding ±1.5 times the standard deviation are removed as outliers.\n",
    "        \n",
    "        ## Extract 3by3 values\n",
    "        s33 = sat.sel(time=ins_point.time.values).isel(lat = slice(lat_center-1,lat_center+2),lon= slice(lon_center-1,lon_center+2))\n",
    "        \n",
    "        # ## Pixels with deviations exceeding ±1.5 times the standard deviation are removed as outliers.\n",
    "        s33_std = s33.std(ddof=1)\n",
    "        s33_mean = s33.mean()\n",
    "        s33_valid = s33.where((s33>(s33_mean - s33_std * 1.5))&\n",
    "                              (s33<(s33_mean + s33_std * 1.5)))\n",
    "        \n",
    "        s33 = s33.where(s33_valid)\n",
    "        \n",
    "        ## Compute the coefficient of variation (CV) for valid points\n",
    "        cv = abs(s33.std(ddof=1)/s33.mean()).where(s33.count()>=5)\n",
    "        s33_mean = s33.mean().where(cv<0.2)\n",
    "        \n",
    "        ## Assign the middle pixel lat and lon to the matchups\n",
    "        s33_mean = s33_mean.assign_coords({'lat':sat_point.lat})\n",
    "        s33_mean = s33_mean.assign_coords({'lon':sat_point.lon})\n",
    "\n",
    "        ## Append to the list\n",
    "        ins_points_list.append(ins_point)\n",
    "        sat_points_list.append(s33_mean)\n",
    "\n",
    "    ## Concatenate all the values into xarray Dataset\n",
    "    ins_points = xr.concat(ins_points_list, dim='time')\n",
    "    sat_points = xr.concat(sat_points_list, dim='time')\n",
    "    ins_points_list = None\n",
    "    sat_points_list = None\n",
    "    \n",
    "    return sat_points, ins_points"
   ]
  },
  {
   "cell_type": "code",
   "execution_count": null,
   "id": "b9158d9e-c4ec-4d9b-a61b-29b8cbefd682",
   "metadata": {},
   "outputs": [],
   "source": [
    "def RMSE(sat_points, ins_points):\n",
    "    '''\n",
    "    Computing the root-mean-squared-error (RMSE) for the difference of satellite and in-situ measurements.\n",
    "    \n",
    "    Parameters:\n",
    "    sat_points (xr.Dataset): Dataset containing all the matchup values for satellite observations\n",
    "    ins_points (xr.Dataset): Dataset containing all the matchup values for in-situ measurements\n",
    "    \n",
    "    Returns:\n",
    "    RMSE_df (pd.Dataframe): Dataframe stating the RMSE for PFTs and TChla\n",
    "    \n",
    "    '''\n",
    "    error = (sat_points - ins_points)\n",
    "    RMSE = np.sqrt(np.mean(np.square(error)))\n",
    "    RMSE['Total'] = np.sqrt(np.mean(np.square(error.to_array())))\n",
    "    RMSE_df = RMSE.to_array('PFT').rename('RMSE').to_dataframe()\n",
    "    RMSE_df.loc['N. Matchups'] =  error.to_array().count().values.astype('int')\n",
    "    return RMSE_df"
   ]
  },
  {
   "cell_type": "code",
   "execution_count": null,
   "id": "5f76df18-d380-4870-adc8-95280bd50519",
   "metadata": {},
   "outputs": [],
   "source": [
    "def validation(sat, insitu):\n",
    "    '''\n",
    "    Conducting a initial validation procedure for extracting matchup points and computing the RMSE\n",
    "    between satellite and in-situ measuremetns.\n",
    "    \n",
    "    Parameters:\n",
    "    sat (xr.Dataset): Dataset containing all satellite observations of the study time and region\n",
    "    insitu (xr.Dataset): Dataset containg all in-situ measurements of the study time and region\n",
    "    \n",
    "    Returns:\n",
    "    sat_points (xr.Dataset): Dataset containing all the matchup values for satellite observations\n",
    "    ins_points (xr.Dataset): Dataset containing all the matchup values for in-situ measurements\n",
    "    RMSE_df (pd.Dataframe): Dataframe stating the RMSE for PFTs and TChla\n",
    "    \n",
    "    '''\n",
    "    sat_points, ins_points = matchup(sat, insitu)\n",
    "    RMSE_df = RMSE(sat_points, ins_points)\n",
    "    \n",
    "    return RMSE_df, sat_points, ins_points"
   ]
  },
  {
   "cell_type": "markdown",
   "id": "25c19abd-ecd6-45d6-ad9e-1e7b4f09ef4a",
   "metadata": {},
   "source": [
    "# Call"
   ]
  },
  {
   "cell_type": "markdown",
   "id": "4dd19743-5880-46db-978c-81264a1480b6",
   "metadata": {},
   "source": [
    "## Load data"
   ]
  },
  {
   "cell_type": "code",
   "execution_count": null,
   "id": "eab6dd2d-b788-4bc4-8b7a-0e50a6dca4e4",
   "metadata": {},
   "outputs": [],
   "source": [
    "## Insitu measurement HPLC data\n",
    "HPLC = load_HPLC(fname='path/to/HPLC/data', params=params)"
   ]
  },
  {
   "cell_type": "code",
   "execution_count": null,
   "id": "c08b753d-4b4b-4ee0-a314-b5568007d427",
   "metadata": {},
   "outputs": [],
   "source": [
    "## Original satellite dataset\n",
    "ds_input = xr.open_dataset(os.path.join(params['output_dir'],'merged/ds_input.nc')).compute()\n",
    "ds_input = np.log10(ds_input)"
   ]
  },
  {
   "cell_type": "code",
   "execution_count": null,
   "id": "66c734b7-42b6-4546-9f92-1aedf823dd81",
   "metadata": {},
   "outputs": [],
   "source": [
    "## DINCAE gap-filled satellite dataset\n",
    "ds_dincae = xr.open_dataset(os.path.join(params['output_dir'],'merged/ds_dincae.nc')).compute()"
   ]
  },
  {
   "cell_type": "code",
   "execution_count": null,
   "id": "1d3ebb86-c971-45b8-93f9-40b79fc5a7f6",
   "metadata": {},
   "outputs": [],
   "source": [
    "## DINEOF gap-filled satellite dataset\n",
    "ds_dineof = xr.open_dataset(os.path.join(params['output_dir'],'merged/ds_dineof.nc')).compute()"
   ]
  },
  {
   "cell_type": "markdown",
   "id": "4a38c345-8b42-4b78-b9fd-6b396ba32aec",
   "metadata": {},
   "source": [
    "## Original satellite data matchups"
   ]
  },
  {
   "cell_type": "code",
   "execution_count": null,
   "id": "b4eabda9-7c0d-4338-9adc-35c637ba5bd3",
   "metadata": {},
   "outputs": [],
   "source": [
    "## Name of the two insurument to use as extension for saving the data and retrieving \n",
    "## the matchups later on for statistical and visualisation purposes\n",
    "instruments = ['Input','HPLC']\n",
    "\n",
    "## Calling the matchup extraction and initial RMSE.\n",
    "RMSE_df_input, sat_points_input, ins_points_input = validation(sat=ds_input, insitu=HPLC)\n",
    "matchup_values_input = xr.concat((sat_points_input,ins_points_input), dim='instrument').assign_coords({'instrument':instruments})\n",
    "\n",
    "## Saving the outputs\n",
    "\n",
    "# matchup_dir = os.path.join(params['output_dir'],'merged/matchups')\n",
    "# RMSE_df.to_csv(os.path.join(matchup_dir, f'RMSE_{instruments[0]}_{instruments[1]}.csv'))\n",
    "# matchup_values.to_netcdf(os.path.join(matchup_dir, f'matchups_{instruments[0]}_{instruments[1]}.nc'))"
   ]
  },
  {
   "cell_type": "markdown",
   "id": "f5a03dcd-4b3a-41a2-a8c6-bb6791ecccc9",
   "metadata": {},
   "source": [
    "## Filled and Transferred matchups DINCAE\n",
    "**Transferred**: matchups that were also presented in the original satellite dataset\n",
    "\n",
    "**Filled**: matchups that were filled and created with gap-filled of the satellite dataset"
   ]
  },
  {
   "cell_type": "code",
   "execution_count": null,
   "id": "fcb1a670-64fa-4a64-8ba3-324dad20b96f",
   "metadata": {},
   "outputs": [],
   "source": [
    "## Extracing all the matchups for DINCAE\n",
    "\n",
    "instruments = ['DINCAE','HPLC']\n",
    "\n",
    "RMSE_df_dincae, sat_points_dincae, ins_points_dincae = validation(sat=ds_dincae, insitu=HPLC)\n",
    "matchup_values_dincae = xr.concat((sat_points_dincae,ins_points_dincae), dim='instrument').assign_coords({'instrument':instruments})\n",
    "\n",
    "## Saving matchups\n",
    "# matchup_dir = os.path.join(params['output_dir'],'merged/matchups')\n",
    "# RMSE_df.to_csv(os.path.join(matchup_dir, f'RMSE_{instruments[0]}_{instruments[1]}.csv'))\n",
    "# matchup_values.to_netcdf(os.path.join(matchup_dir, f'matchups_{instruments[0]}_{instruments[1]}.nc'))"
   ]
  },
  {
   "cell_type": "code",
   "execution_count": null,
   "id": "a834d63a-c467-4abc-9e79-07174405f2d3",
   "metadata": {},
   "outputs": [],
   "source": [
    "## Separating and extracting matchups for DINCAE transferred and filled matchups\n",
    "\n",
    "sat_points_dincae_transferred = sat_points_dincae.where(np.isfinite(sat_points_input))\n",
    "matchup_values_dincae_transferred = xr.concat((sat_points_dincae_transferred,ins_points_dincae), dim='instrument').assign_coords({'instrument':instruments})\n",
    "\n",
    "sat_points_dincae_filled = sat_points_dincae.where(np.isnan(sat_points_input))\n",
    "matchup_values_dincae_filled = xr.concat((sat_points_dincae_filled,ins_points_dincae), dim='instrument').assign_coords({'instrument':instruments})\n",
    "\n",
    "## Saving matchups\n",
    "# matchup_dir = os.path.join(params['output_dir'],'merged/matchups')\n",
    "# matchup_values_dincae_transferred.to_netcdf(os.path.join(matchup_dir, f'matchups_{instruments[0]}_{instruments[1]}_transferred.nc'))\n",
    "# matchup_values_dincae_filled.to_netcdf(os.path.join(matchup_dir, f'matchups_{instruments[0]}_{instruments[1]}_filled.nc'))"
   ]
  },
  {
   "cell_type": "markdown",
   "id": "484af589-4885-4ae8-9a73-ff2a50d22d97",
   "metadata": {},
   "source": [
    "## Filled and Transferred matchups DINEOF\n",
    "**Transferred**: matchups that were also presented in the original satellite dataset\n",
    "\n",
    "**Filled**: matchups that were filled and created with gap-filled of the satellite dataset"
   ]
  },
  {
   "cell_type": "code",
   "execution_count": null,
   "id": "300880a7-d42d-4140-8395-bfb069050af8",
   "metadata": {},
   "outputs": [],
   "source": [
    "## Extracing all the matchups for DINEOF\n",
    "\n",
    "instruments = ['DINEOF','HPLC']\n",
    "\n",
    "RMSE_df_dineof, sat_points_dineof, ins_points_dineof = validation(sat=ds_dineof, insitu=HPLC)\n",
    "matchup_values_dineof = xr.concat((sat_points_dineof,ins_points_dineof), dim='instrument').assign_coords({'instrument':instruments})\n",
    "\n",
    "## Saving matchups\n",
    "# matchup_dir = os.path.join(params['output_dir'],'merged/matchups')\n",
    "# RMSE_df_dineof.to_csv(os.path.join(matchup_dir, f'RMSE_{instruments[0]}_{instruments[1]}.csv'))\n",
    "# matchup_values_dineof.to_netcdf(os.path.join(matchup_dir, f'matchups_{instruments[0]}_{instruments[1]}.nc'))"
   ]
  },
  {
   "cell_type": "code",
   "execution_count": null,
   "id": "fdf5be75-c57b-4936-bc0a-c7d8c0a837f8",
   "metadata": {},
   "outputs": [],
   "source": [
    "## Separating and extracting matchups for DINEOF transferred and filled matchups\n",
    "\n",
    "sat_points_dineof_transferred = sat_points_dineof.where(np.isfinite(sat_points_input))\n",
    "matchup_values_dineof_transferred = xr.concat((sat_points_dineof_transferred,ins_points_dineof), dim='instrument').assign_coords({'instrument':instruments})\n",
    "\n",
    "sat_points_dineof_filled = sat_points_dineof.where(np.isnan(sat_points_input))\n",
    "matchup_values_dineof_filled = xr.concat((sat_points_dineof_filled,ins_points_dineof), dim='instrument').assign_coords({'instrument':instruments})\n",
    "\n",
    "## Saving matchups\n",
    "# matchup_dir = os.path.join(params['output_dir'],'merged/matchups')\n",
    "# RMSE_df.to_csv(os.path.join(matchup_dir, f'RMSE_{instruments[0]}_{instruments[1]}.csv'))\n",
    "matchup_values_dineof_transferred.to_netcdf(os.path.join(matchup_dir, f'matchups_{instruments[0]}_{instruments[1]}_transferred.nc'))\n",
    "matchup_values_dineof_filled.to_netcdf(os.path.join(matchup_dir, f'matchups_{instruments[0]}_{instruments[1]}_filled.nc'))"
   ]
  }
 ],
 "metadata": {
  "kernelspec": {
   "display_name": "Python [conda env:.conda-PFT_gapfilling]",
   "language": "python",
   "name": "conda-env-.conda-PFT_gapfilling-py"
  },
  "language_info": {
   "codemirror_mode": {
    "name": "ipython",
    "version": 3
   },
   "file_extension": ".py",
   "mimetype": "text/x-python",
   "name": "python",
   "nbconvert_exporter": "python",
   "pygments_lexer": "ipython3",
   "version": "3.13.1"
  }
 },
 "nbformat": 4,
 "nbformat_minor": 5
}
